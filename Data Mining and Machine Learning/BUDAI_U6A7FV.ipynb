{
  "cells": [
    {
      "cell_type": "markdown",
      "source": [
        "**Imports**"
      ],
      "metadata": {
        "id": "Bg3slFLwWkeY"
      }
    },
    {
      "cell_type": "code",
      "execution_count": 271,
      "metadata": {
        "id": "WdYlvsKi9oZG"
      },
      "outputs": [],
      "source": [
        "import numpy as np \n",
        "import pandas as pd\n",
        "import seaborn as sns\n",
        "import matplotlib.pyplot as plt\n",
        "from imblearn.over_sampling import SMOTE, SVMSMOTE\n",
        "from sklearn.model_selection import train_test_split\n",
        "from sklearn.impute import SimpleImputer\n",
        "from sklearn.decomposition import PCA\n",
        "from sklearn import svm\n",
        "from sklearn import metrics\n",
        "from sklearn.metrics import fbeta_score\n"
      ]
    },
    {
      "cell_type": "markdown",
      "source": [
        "Import datasets"
      ],
      "metadata": {
        "id": "eWLNse33rTGb"
      }
    },
    {
      "cell_type": "code",
      "execution_count": 272,
      "metadata": {
        "colab": {
          "base_uri": "https://localhost:8080/"
        },
        "id": "y9uJGXRI97IW",
        "outputId": "d0e7e4b7-1350-454d-c90f-91f54639632a"
      },
      "outputs": [
        {
          "output_type": "stream",
          "name": "stdout",
          "text": [
            "X_train shape:  (39900, 171)\n",
            "Y_train shape:  (39900, 2)\n",
            "X_test shape:  (17100, 171)\n"
          ]
        }
      ],
      "source": [
        "input_file = \"/content/X_train.csv\"\n",
        "X = pd.read_csv(input_file,  na_values=\"na\")\n",
        "input_file = \"/content/y_train.csv\"\n",
        "Y = pd.read_csv(input_file, na_values=\"na\")\n",
        "input_file = \"/content/X_test.csv\"\n",
        "X_pred = pd.read_csv(input_file,na_values=\"na\")\n",
        "print(\"X_train shape: \" , X.shape)\n",
        "print(\"Y_train shape: \" ,Y.shape)\n",
        "print(\"X_test shape: \" ,X_pred.shape)"
      ]
    },
    {
      "cell_type": "code",
      "source": [
        "print(X.head())"
      ],
      "metadata": {
        "colab": {
          "base_uri": "https://localhost:8080/"
        },
        "id": "rFfKd1vrtRzn",
        "outputId": "ba6309f2-1908-4149-b4f1-a43ef1ebaefb"
      },
      "execution_count": 273,
      "outputs": [
        {
          "output_type": "stream",
          "name": "stdout",
          "text": [
            "   Id  aa_000  ab_000        ac_000  ad_000  ae_000  af_000  ag_000  ag_001  \\\n",
            "0   0   21470     0.0  2.130706e+09   168.0     0.0     0.0     0.0     0.0   \n",
            "1   1   40856     NaN  5.540000e+02     0.0     0.0     0.0     0.0     0.0   \n",
            "2   2      28     NaN  2.130706e+09    20.0     0.0     0.0     0.0     0.0   \n",
            "3   3   38682     NaN  3.440000e+02   326.0     0.0     0.0     0.0     0.0   \n",
            "4   4   62218     NaN  0.000000e+00     NaN     0.0     0.0     0.0     0.0   \n",
            "\n",
            "   ag_002  ...    ee_002    ee_003    ee_004    ee_005    ee_006    ee_007  \\\n",
            "0     0.0  ...  187028.0  109090.0  228040.0   89664.0  296964.0   78936.0   \n",
            "1     0.0  ...  526386.0  277000.0  612436.0  441664.0   84968.0    2204.0   \n",
            "2     0.0  ...     406.0      80.0      78.0      40.0       0.0       0.0   \n",
            "3     0.0  ...  244622.0  116794.0  267896.0  307242.0  248998.0  164098.0   \n",
            "4     0.0  ...  499450.0  242448.0  458620.0  422742.0  390678.0  287052.0   \n",
            "\n",
            "     ee_008   ee_009  ef_000  eg_000  \n",
            "0      58.0      0.0     0.0     0.0  \n",
            "1      78.0      0.0     0.0     0.0  \n",
            "2       0.0      0.0     0.0     0.0  \n",
            "3  300820.0  11238.0     0.0     0.0  \n",
            "4  427584.0  10146.0     0.0     0.0  \n",
            "\n",
            "[5 rows x 171 columns]\n"
          ]
        }
      ]
    },
    {
      "cell_type": "markdown",
      "source": [
        "Ditribution of the values"
      ],
      "metadata": {
        "id": "pQDS8y0JrZRP"
      }
    },
    {
      "cell_type": "code",
      "source": [
        "s = pd.Series(Y[\"Expected\"])\n",
        "s.value_counts(normalize=False)"
      ],
      "metadata": {
        "colab": {
          "base_uri": "https://localhost:8080/"
        },
        "id": "m9WE7uau5PO9",
        "outputId": "35e99dac-8106-49a6-98e2-97cdf5bb04ff"
      },
      "execution_count": 274,
      "outputs": [
        {
          "output_type": "execute_result",
          "data": {
            "text/plain": [
              "0    39178\n",
              "1      722\n",
              "Name: Expected, dtype: int64"
            ]
          },
          "metadata": {},
          "execution_count": 274
        }
      ]
    },
    {
      "cell_type": "code",
      "source": [
        "plt.figure(figsize=(15,8))\n",
        "sns.distplot(Y[\"Expected\"]);"
      ],
      "metadata": {
        "colab": {
          "base_uri": "https://localhost:8080/",
          "height": 552
        },
        "id": "eZ5g9iba70o_",
        "outputId": "41bdb48b-270d-4a14-d634-36cdbddb32b6"
      },
      "execution_count": 275,
      "outputs": [
        {
          "output_type": "stream",
          "name": "stderr",
          "text": [
            "/usr/local/lib/python3.8/dist-packages/seaborn/distributions.py:2619: FutureWarning: `distplot` is a deprecated function and will be removed in a future version. Please adapt your code to use either `displot` (a figure-level function with similar flexibility) or `histplot` (an axes-level function for histograms).\n",
            "  warnings.warn(msg, FutureWarning)\n"
          ]
        },
        {
          "output_type": "display_data",
          "data": {
            "text/plain": [
              "<Figure size 1080x576 with 1 Axes>"
            ],
            "image/png": "[encoded data removed]"
          },
          "metadata": {
            "needs_background": "light"
          }
        }
      ]
    },
    {
      "cell_type": "code",
      "source": [
        "total_miss_values=X.isna().sum().sort_values(ascending=False)\n",
        "total_miss_values"
      ],
      "metadata": {
        "colab": {
          "base_uri": "https://localhost:8080/"
        },
        "id": "RySHLkC56DCq",
        "outputId": "baf53f0b-d553-4d32-965f-2ddb58a861fd"
      },
      "execution_count": 276,
      "outputs": [
        {
          "output_type": "execute_result",
          "data": {
            "text/plain": [
              "br_000    32723\n",
              "bq_000    32367\n",
              "bp_000    31718\n",
              "ab_000    30779\n",
              "cr_000    30779\n",
              "          ...  \n",
              "cj_000      226\n",
              "ci_000      226\n",
              "bt_000       94\n",
              "aa_000        0\n",
              "Id            0\n",
              "Length: 171, dtype: int64"
            ]
          },
          "metadata": {},
          "execution_count": 276
        }
      ]
    },
    {
      "cell_type": "code",
      "source": [
        "print (X.describe())"
      ],
      "metadata": {
        "colab": {
          "base_uri": "https://localhost:8080/"
        },
        "id": "ofN3tOA5DuQO",
        "outputId": "b7eb330b-dc64-490c-be76-39331775f6f6"
      },
      "execution_count": 277,
      "outputs": [
        {
          "output_type": "stream",
          "name": "stdout",
          "text": [
            "                 Id        aa_000       ab_000        ac_000        ad_000  \\\n",
            "count  39900.000000  3.990000e+04  9121.000000  3.765900e+04  2.993400e+04   \n",
            "mean   19949.500000  6.094339e+04     0.728210  3.536753e+08  2.872309e+05   \n",
            "std    11518.282207  2.598214e+05     3.107561  7.927850e+08  4.961607e+07   \n",
            "min        0.000000  0.000000e+00     0.000000  0.000000e+00  0.000000e+00   \n",
            "25%     9974.750000  8.680000e+02     0.000000  1.600000e+01  2.400000e+01   \n",
            "50%    19949.500000  3.082300e+04     0.000000  1.520000e+02  1.260000e+02   \n",
            "75%    29924.250000  4.889650e+04     0.000000  9.700000e+02  4.340000e+02   \n",
            "max    39899.000000  4.294967e+07   134.000000  2.130707e+09  8.584298e+09   \n",
            "\n",
            "             ae_000        af_000        ag_000        ag_001        ag_002  \\\n",
            "count  38240.000000  38240.000000  3.943400e+04  3.943400e+04  3.943400e+04   \n",
            "mean       6.427877     10.552354  2.017626e+02  1.096192e+03  9.547083e+03   \n",
            "std      112.420166    177.143548  1.823295e+04  3.272456e+04  1.563888e+05   \n",
            "min        0.000000      0.000000  0.000000e+00  0.000000e+00  0.000000e+00   \n",
            "25%        0.000000      0.000000  0.000000e+00  0.000000e+00  0.000000e+00   \n",
            "50%        0.000000      0.000000  0.000000e+00  0.000000e+00  0.000000e+00   \n",
            "75%        0.000000      0.000000  0.000000e+00  0.000000e+00  0.000000e+00   \n",
            "max    11044.000000  14186.000000  3.376892e+06  3.708310e+06  1.004568e+07   \n",
            "\n",
            "       ...        ee_002        ee_003        ee_004        ee_005  \\\n",
            "count  ...  3.943200e+04  3.943200e+04  3.943200e+04  3.943200e+04   \n",
            "mean   ...  4.486738e+05  2.129917e+05  4.489956e+05  4.013561e+05   \n",
            "std    ...  1.121988e+06  5.316487e+05  1.129791e+06  1.130969e+06   \n",
            "min    ...  0.000000e+00  0.000000e+00  0.000000e+00  0.000000e+00   \n",
            "25%    ...  2.976000e+03  1.186000e+03  2.740000e+03  3.660000e+03   \n",
            "50%    ...  2.351960e+05  1.121640e+05  2.236870e+05  1.907450e+05   \n",
            "75%    ...  4.394680e+05  2.175255e+05  4.667520e+05  4.037860e+05   \n",
            "max    ...  3.123272e+07  1.454922e+07  2.454544e+07  5.743524e+07   \n",
            "\n",
            "             ee_006        ee_007        ee_008        ee_009        ef_000  \\\n",
            "count  3.943200e+04  3.943200e+04  3.943200e+04  3.943200e+04  38087.000000   \n",
            "mean   3.390282e+05  3.439853e+05  1.375559e+05  8.265914e+03      0.074514   \n",
            "std    1.102586e+06  1.626701e+06  4.350107e+05  4.968480e+04      3.610742   \n",
            "min    0.000000e+00  0.000000e+00  0.000000e+00  0.000000e+00      0.000000   \n",
            "25%    5.240000e+02  1.160000e+02  0.000000e+00  0.000000e+00      0.000000   \n",
            "50%    9.458700e+04  4.204100e+04  3.992000e+03  0.000000e+00      0.000000   \n",
            "75%    2.769340e+05  1.682435e+05  1.397730e+05  1.998500e+03      0.000000   \n",
            "max    3.160781e+07  3.755240e+07  1.718575e+07  4.570398e+06    350.000000   \n",
            "\n",
            "             eg_000  \n",
            "count  38088.000000  \n",
            "mean       0.236137  \n",
            "std       12.155503  \n",
            "min        0.000000  \n",
            "25%        0.000000  \n",
            "50%        0.000000  \n",
            "75%        0.000000  \n",
            "max     1720.000000  \n",
            "\n",
            "[8 rows x 171 columns]\n"
          ]
        }
      ]
    },
    {
      "cell_type": "code",
      "source": [
        "data = pd.merge(Y,X)\n",
        "x = data.drop(['Id'], axis =1)"
      ],
      "metadata": {
        "id": "54KQmaXkgF8R"
      },
      "execution_count": 278,
      "outputs": []
    },
    {
      "cell_type": "code",
      "source": [
        "#perc = 50.0 \n",
        "#min_count = int(((100-perc)/100)*x.shape[0] + 1)\n",
        "#X = pd.merge(Y,X)\n",
        "#x = x.dropna( axis=1, thresh=min_count)\n"
      ],
      "metadata": {
        "id": "rkCFstIB4nCN"
      },
      "execution_count": 279,
      "outputs": []
    },
    {
      "cell_type": "code",
      "source": [
        "f=plt.figure(figsize=(15,15))\n",
        "ax=f.add_subplot(111)\n",
        "cax=ax.matshow(x.corr(),interpolation='nearest')\n",
        "f.colorbar(cax)\n",
        "plt.title('Correlation matrix',fontsize=15)\n",
        "plt.show();"
      ],
      "metadata": {
        "colab": {
          "base_uri": "https://localhost:8080/",
          "height": 850
        },
        "id": "2x97RuAd7gbt",
        "outputId": "38833e35-fba9-4cc8-cf08-13d9e4a9bbec"
      },
      "execution_count": 280,
      "outputs": [
        {
          "output_type": "display_data",
          "data": {
            "text/plain": [
              "<Figure size 1080x1080 with 2 Axes>"
            ],
            "image/png": "[encoded data removed]"
          },
          "metadata": {
            "needs_background": "light"
          }
        }
      ]
    },
    {
      "cell_type": "code",
      "source": [
        "total_miss_values = x.isna().sum().sort_values(ascending=False)\n",
        "percent_missing = x.isna().sum() * 100 / len(x)\n",
        "missing_value_X = pd.DataFrame({'column_name': x.columns,\n",
        "                                 'percent_missing': percent_missing})\n",
        "missing_value_X.sort_values('percent_missing', inplace=True, ascending=False)\n",
        "total_miss_values.head(10)\n",
        "missing_value_X.head(10)"
      ],
      "metadata": {
        "colab": {
          "base_uri": "https://localhost:8080/",
          "height": 363
        },
        "id": "OtUWHXjYxtOF",
        "outputId": "d7e3a00b-334a-4034-cc53-a7641da50e7a"
      },
      "execution_count": 281,
      "outputs": [
        {
          "output_type": "execute_result",
          "data": {
            "text/plain": [
              "       column_name  percent_missing\n",
              "br_000      br_000        82.012531\n",
              "bq_000      bq_000        81.120301\n",
              "bp_000      bp_000        79.493734\n",
              "ab_000      ab_000        77.140351\n",
              "cr_000      cr_000        77.140351\n",
              "bo_000      bo_000        77.125313\n",
              "bn_000      bn_000        73.190476\n",
              "bm_000      bm_000        65.834586\n",
              "bl_000      bl_000        45.436090\n",
              "bk_000      bk_000        38.197995"
            ],
            "text/html": [
              "\n",
              "  <div id=\"df-9a71d55e-27c5-46b2-a28a-16ae0c1582a5\">\n",
              "    <div class=\"colab-df-container\">\n",
              "      <div>\n",
              "<style scoped>\n",
              "    .dataframe tbody tr th:only-of-type {\n",
              "        vertical-align: middle;\n",
              "    }\n",
              "\n",
              "    .dataframe tbody tr th {\n",
              "        vertical-align: top;\n",
              "    }\n",
              "\n",
              "    .dataframe thead th {\n",
              "        text-align: right;\n",
              "    }\n",
              "</style>\n",
              "<table border=\"1\" class=\"dataframe\">\n",
              "  <thead>\n",
              "    <tr style=\"text-align: right;\">\n",
              "      <th></th>\n",
              "      <th>column_name</th>\n",
              "      <th>percent_missing</th>\n",
              "    </tr>\n",
              "  </thead>\n",
              "  <tbody>\n",
              "    <tr>\n",
              "      <th>br_000</th>\n",
              "      <td>br_000</td>\n",
              "      <td>82.012531</td>\n",
              "    </tr>\n",
              "    <tr>\n",
              "      <th>bq_000</th>\n",
              "      <td>bq_000</td>\n",
              "      <td>81.120301</td>\n",
              "    </tr>\n",
              "    <tr>\n",
              "      <th>bp_000</th>\n",
              "      <td>bp_000</td>\n",
              "      <td>79.493734</td>\n",
              "    </tr>\n",
              "    <tr>\n",
              "      <th>ab_000</th>\n",
              "      <td>ab_000</td>\n",
              "      <td>77.140351</td>\n",
              "    </tr>\n",
              "    <tr>\n",
              "      <th>cr_000</th>\n",
              "      <td>cr_000</td>\n",
              "      <td>77.140351</td>\n",
              "    </tr>\n",
              "    <tr>\n",
              "      <th>bo_000</th>\n",
              "      <td>bo_000</td>\n",
              "      <td>77.125313</td>\n",
              "    </tr>\n",
              "    <tr>\n",
              "      <th>bn_000</th>\n",
              "      <td>bn_000</td>\n",
              "      <td>73.190476</td>\n",
              "    </tr>\n",
              "    <tr>\n",
              "      <th>bm_000</th>\n",
              "      <td>bm_000</td>\n",
              "      <td>65.834586</td>\n",
              "    </tr>\n",
              "    <tr>\n",
              "      <th>bl_000</th>\n",
              "      <td>bl_000</td>\n",
              "      <td>45.436090</td>\n",
              "    </tr>\n",
              "    <tr>\n",
              "      <th>bk_000</th>\n",
              "      <td>bk_000</td>\n",
              "      <td>38.197995</td>\n",
              "    </tr>\n",
              "  </tbody>\n",
              "</table>\n",
              "</div>\n",
              "      <button class=\"colab-df-convert\" onclick=\"convertToInteractive('df-9a71d55e-27c5-46b2-a28a-16ae0c1582a5')\"\n",
              "              title=\"Convert this dataframe to an interactive table.\"\n",
              "              style=\"display:none;\">\n",
              "        \n",
              "  <svg xmlns=\"http://www.w3.org/2000/svg\" height=\"24px\"viewBox=\"0 0 24 24\"\n",
              "       width=\"24px\">\n",
              "    <path d=\"M0 0h24v24H0V0z\" fill=\"none\"/>\n",
              "    <path d=\"M18.56 5.44l.94 2.06.94-2.06 2.06-.94-2.06-.94-.94-2.06-.94 2.06-2.06.94zm-11 1L8.5 8.5l.94-2.06 2.06-.94-2.06-.94L8.5 2.5l-.94 2.06-2.06.94zm10 10l.94 2.06.94-2.06 2.06-.94-2.06-.94-.94-2.06-.94 2.06-2.06.94z\"/><path d=\"M17.41 7.96l-1.37-1.37c-.4-.4-.92-.59-1.43-.59-.52 0-1.04.2-1.43.59L10.3 9.45l-7.72 7.72c-.78.78-.78 2.05 0 2.83L4 21.41c.39.39.9.59 1.41.59.51 0 1.02-.2 1.41-.59l7.78-7.78 2.81-2.81c.8-.78.8-2.07 0-2.86zM5.41 20L4 18.59l7.72-7.72 1.47 1.35L5.41 20z\"/>\n",
              "  </svg>\n",
              "      </button>\n",
              "      \n",
              "  <style>\n",
              "    .colab-df-container {\n",
              "      display:flex;\n",
              "      flex-wrap:wrap;\n",
              "      gap: 12px;\n",
              "    }\n",
              "\n",
              "    .colab-df-convert {\n",
              "      background-color: #E8F0FE;\n",
              "      border: none;\n",
              "      border-radius: 50%;\n",
              "      cursor: pointer;\n",
              "      display: none;\n",
              "      fill: #1967D2;\n",
              "      height: 32px;\n",
              "      padding: 0 0 0 0;\n",
              "      width: 32px;\n",
              "    }\n",
              "\n",
              "    .colab-df-convert:hover {\n",
              "      background-color: #E2EBFA;\n",
              "      box-shadow: 0px 1px 2px rgba(60, 64, 67, 0.3), 0px 1px 3px 1px rgba(60, 64, 67, 0.15);\n",
              "      fill: #174EA6;\n",
              "    }\n",
              "\n",
              "    [theme=dark] .colab-df-convert {\n",
              "      background-color: #3B4455;\n",
              "      fill: #D2E3FC;\n",
              "    }\n",
              "\n",
              "    [theme=dark] .colab-df-convert:hover {\n",
              "      background-color: #434B5C;\n",
              "      box-shadow: 0px 1px 3px 1px rgba(0, 0, 0, 0.15);\n",
              "      filter: drop-shadow(0px 1px 2px rgba(0, 0, 0, 0.3));\n",
              "      fill: #FFFFFF;\n",
              "    }\n",
              "  </style>\n",
              "\n",
              "      <script>\n",
              "        const buttonEl =\n",
              "          document.querySelector('#df-9a71d55e-27c5-46b2-a28a-16ae0c1582a5 button.colab-df-convert');\n",
              "        buttonEl.style.display =\n",
              "          google.colab.kernel.accessAllowed ? 'block' : 'none';\n",
              "\n",
              "        async function convertToInteractive(key) {\n",
              "          const element = document.querySelector('#df-9a71d55e-27c5-46b2-a28a-16ae0c1582a5');\n",
              "          const dataTable =\n",
              "            await google.colab.kernel.invokeFunction('convertToInteractive',\n",
              "                                                     [key], {});\n",
              "          if (!dataTable) return;\n",
              "\n",
              "          const docLinkHtml = 'Like what you see? Visit the ' +\n",
              "            '<a target=\"_blank\" href=https://colab.research.google.com/notebooks/data_table.ipynb>data table notebook</a>'\n",
              "            + ' to learn more about interactive tables.';\n",
              "          element.innerHTML = '';\n",
              "          dataTable['output_type'] = 'display_data';\n",
              "          await google.colab.output.renderOutput(dataTable, element);\n",
              "          const docLink = document.createElement('div');\n",
              "          docLink.innerHTML = docLinkHtml;\n",
              "          element.appendChild(docLink);\n",
              "        }\n",
              "      </script>\n",
              "    </div>\n",
              "  </div>\n",
              "  "
            ]
          },
          "metadata": {},
          "execution_count": 281
        }
      ]
    },
    {
      "cell_type": "code",
      "source": [
        "x = pd.DataFrame(SimpleImputer(strategy='most_frequent').fit_transform(x), columns=x.columns)\n",
        "X_pred = pd.DataFrame(SimpleImputer(strategy='most_frequent').fit_transform(X_pred), columns=x.columns)\n"
      ],
      "metadata": {
        "id": "tqPfKjtcmIxQ"
      },
      "execution_count": 282,
      "outputs": []
    },
    {
      "cell_type": "code",
      "source": [
        "X_pred=X_pred.drop(columns=[\"Expected\"])\n",
        "X_train=x.drop(columns=[\"Expected\"])\n",
        "y_train=x[\"Expected\"]"
      ],
      "metadata": {
        "id": "HTg_2yHUlVJ-"
      },
      "execution_count": 283,
      "outputs": []
    },
    {
      "cell_type": "code",
      "source": [
        "pca50comp = PCA(50)\n",
        "x_pca = pca50comp.fit(X_train).transform(X_train)\n",
        "x_test_pca = pca50comp.transform(X_pred)\n",
        "\n",
        "x_pca = pd.DataFrame(x_pca)\n",
        "x_test_pca = pd.DataFrame(x_test_pca)\n",
        "\n",
        "x_pca.head()"
      ],
      "metadata": {
        "id": "vpBokUeLh3rV",
        "colab": {
          "base_uri": "https://localhost:8080/",
          "height": 299
        },
        "outputId": "0a9eb3db-0a82-40c9-8406-fbf3e7b9a49a"
      },
      "execution_count": 284,
      "outputs": [
        {
          "output_type": "execute_result",
          "data": {
            "text/plain": [
              "             0             1              2             3             4   \\\n",
              "0  1.796928e+09  2.154362e+06   16207.262541 -6.420076e+06  2.816369e+06   \n",
              "1 -3.337823e+08 -5.858645e+06 -432727.477542 -8.703238e+06 -2.188168e+05   \n",
              "2  1.796930e+09 -1.421159e+06   21523.463122 -8.243020e+06  7.912230e+06   \n",
              "3 -3.337591e+08 -6.044431e+06 -428755.485651 -1.018031e+07  2.505657e+06   \n",
              "4 -3.337924e+08 -5.785929e+06 -436188.082235 -6.432243e+06 -3.677846e+05   \n",
              "\n",
              "             5             6             7             8              9   ...  \\\n",
              "0 -1.366683e+06  1.059350e+05 -1.169605e+06 -1.035134e+06  902554.973104  ...   \n",
              "1 -1.114140e+06 -8.879440e+05  2.137344e+06 -9.278204e+04  809914.779287  ...   \n",
              "2 -6.677783e+06 -2.101215e+06  1.494869e+06 -1.880791e+06  765942.683016  ...   \n",
              "3  3.085513e+06  8.163781e+05 -1.038524e+06  1.396422e+06  892910.126835  ...   \n",
              "4 -1.938865e+06 -1.703590e+06  1.939086e+06 -7.378004e+05  813308.127707  ...   \n",
              "\n",
              "              40             41             42             43             44  \\\n",
              "0  -28089.062708 -225704.963003 -123884.490684 -305773.524122  -28269.952334   \n",
              "1  223561.322608 -341236.946103 -249726.204474 -603047.183768 -347554.180858   \n",
              "2 -271977.699276  198984.237168  111116.164803  221647.568048  -56485.195036   \n",
              "3  450287.433578 -123965.828316 -182768.804767 -246088.796767  153577.326401   \n",
              "4  385347.231795 -289905.039457 -405233.725822 -459483.501251  -52700.660332   \n",
              "\n",
              "             45             46             47             48             49  \n",
              "0 -59448.760765  122561.649719  117105.797594  292942.146885  278720.862764  \n",
              "1  88302.325564   76436.340090   11818.072354 -108508.385435   -7067.033805  \n",
              "2 -28125.197192    6343.888867  -32582.895822   16141.112737  -38260.294194  \n",
              "3 -28547.703491   51129.546450   46099.731082  -78108.439234   -8527.558284  \n",
              "4   8165.036061   36893.369192   63370.447234  -97817.049341   46046.331562  \n",
              "\n",
              "[5 rows x 50 columns]"
            ],
            "text/html": [
              "\n",
              "  <div id=\"df-a32ab181-820d-4e9d-964f-fb1129214cd2\">\n",
              "    <div class=\"colab-df-container\">\n",
              "      <div>\n",
              "<style scoped>\n",
              "    .dataframe tbody tr th:only-of-type {\n",
              "        vertical-align: middle;\n",
              "    }\n",
              "\n",
              "    .dataframe tbody tr th {\n",
              "        vertical-align: top;\n",
              "    }\n",
              "\n",
              "    .dataframe thead th {\n",
              "        text-align: right;\n",
              "    }\n",
              "</style>\n",
              "<table border=\"1\" class=\"dataframe\">\n",
              "  <thead>\n",
              "    <tr style=\"text-align: right;\">\n",
              "      <th></th>\n",
              "      <th>0</th>\n",
              "      <th>1</th>\n",
              "      <th>2</th>\n",
              "      <th>3</th>\n",
              "      <th>4</th>\n",
              "      <th>5</th>\n",
              "      <th>6</th>\n",
              "      <th>7</th>\n",
              "      <th>8</th>\n",
              "      <th>9</th>\n",
              "      <th>...</th>\n",
              "      <th>40</th>\n",
              "      <th>41</th>\n",
              "      <th>42</th>\n",
              "      <th>43</th>\n",
              "      <th>44</th>\n",
              "      <th>45</th>\n",
              "      <th>46</th>\n",
              "      <th>47</th>\n",
              "      <th>48</th>\n",
              "      <th>49</th>\n",
              "    </tr>\n",
              "  </thead>\n",
              "  <tbody>\n",
              "    <tr>\n",
              "      <th>0</th>\n",
              "      <td>1.796928e+09</td>\n",
              "      <td>2.154362e+06</td>\n",
              "      <td>16207.262541</td>\n",
              "      <td>-6.420076e+06</td>\n",
              "      <td>2.816369e+06</td>\n",
              "      <td>-1.366683e+06</td>\n",
              "      <td>1.059350e+05</td>\n",
              "      <td>-1.169605e+06</td>\n",
              "      <td>-1.035134e+06</td>\n",
              "      <td>902554.973104</td>\n",
              "      <td>...</td>\n",
              "      <td>-28089.062708</td>\n",
              "      <td>-225704.963003</td>\n",
              "      <td>-123884.490684</td>\n",
              "      <td>-305773.524122</td>\n",
              "      <td>-28269.952334</td>\n",
              "      <td>-59448.760765</td>\n",
              "      <td>122561.649719</td>\n",
              "      <td>117105.797594</td>\n",
              "      <td>292942.146885</td>\n",
              "      <td>278720.862764</td>\n",
              "    </tr>\n",
              "    <tr>\n",
              "      <th>1</th>\n",
              "      <td>-3.337823e+08</td>\n",
              "      <td>-5.858645e+06</td>\n",
              "      <td>-432727.477542</td>\n",
              "      <td>-8.703238e+06</td>\n",
              "      <td>-2.188168e+05</td>\n",
              "      <td>-1.114140e+06</td>\n",
              "      <td>-8.879440e+05</td>\n",
              "      <td>2.137344e+06</td>\n",
              "      <td>-9.278204e+04</td>\n",
              "      <td>809914.779287</td>\n",
              "      <td>...</td>\n",
              "      <td>223561.322608</td>\n",
              "      <td>-341236.946103</td>\n",
              "      <td>-249726.204474</td>\n",
              "      <td>-603047.183768</td>\n",
              "      <td>-347554.180858</td>\n",
              "      <td>88302.325564</td>\n",
              "      <td>76436.340090</td>\n",
              "      <td>11818.072354</td>\n",
              "      <td>-108508.385435</td>\n",
              "      <td>-7067.033805</td>\n",
              "    </tr>\n",
              "    <tr>\n",
              "      <th>2</th>\n",
              "      <td>1.796930e+09</td>\n",
              "      <td>-1.421159e+06</td>\n",
              "      <td>21523.463122</td>\n",
              "      <td>-8.243020e+06</td>\n",
              "      <td>7.912230e+06</td>\n",
              "      <td>-6.677783e+06</td>\n",
              "      <td>-2.101215e+06</td>\n",
              "      <td>1.494869e+06</td>\n",
              "      <td>-1.880791e+06</td>\n",
              "      <td>765942.683016</td>\n",
              "      <td>...</td>\n",
              "      <td>-271977.699276</td>\n",
              "      <td>198984.237168</td>\n",
              "      <td>111116.164803</td>\n",
              "      <td>221647.568048</td>\n",
              "      <td>-56485.195036</td>\n",
              "      <td>-28125.197192</td>\n",
              "      <td>6343.888867</td>\n",
              "      <td>-32582.895822</td>\n",
              "      <td>16141.112737</td>\n",
              "      <td>-38260.294194</td>\n",
              "    </tr>\n",
              "    <tr>\n",
              "      <th>3</th>\n",
              "      <td>-3.337591e+08</td>\n",
              "      <td>-6.044431e+06</td>\n",
              "      <td>-428755.485651</td>\n",
              "      <td>-1.018031e+07</td>\n",
              "      <td>2.505657e+06</td>\n",
              "      <td>3.085513e+06</td>\n",
              "      <td>8.163781e+05</td>\n",
              "      <td>-1.038524e+06</td>\n",
              "      <td>1.396422e+06</td>\n",
              "      <td>892910.126835</td>\n",
              "      <td>...</td>\n",
              "      <td>450287.433578</td>\n",
              "      <td>-123965.828316</td>\n",
              "      <td>-182768.804767</td>\n",
              "      <td>-246088.796767</td>\n",
              "      <td>153577.326401</td>\n",
              "      <td>-28547.703491</td>\n",
              "      <td>51129.546450</td>\n",
              "      <td>46099.731082</td>\n",
              "      <td>-78108.439234</td>\n",
              "      <td>-8527.558284</td>\n",
              "    </tr>\n",
              "    <tr>\n",
              "      <th>4</th>\n",
              "      <td>-3.337924e+08</td>\n",
              "      <td>-5.785929e+06</td>\n",
              "      <td>-436188.082235</td>\n",
              "      <td>-6.432243e+06</td>\n",
              "      <td>-3.677846e+05</td>\n",
              "      <td>-1.938865e+06</td>\n",
              "      <td>-1.703590e+06</td>\n",
              "      <td>1.939086e+06</td>\n",
              "      <td>-7.378004e+05</td>\n",
              "      <td>813308.127707</td>\n",
              "      <td>...</td>\n",
              "      <td>385347.231795</td>\n",
              "      <td>-289905.039457</td>\n",
              "      <td>-405233.725822</td>\n",
              "      <td>-459483.501251</td>\n",
              "      <td>-52700.660332</td>\n",
              "      <td>8165.036061</td>\n",
              "      <td>36893.369192</td>\n",
              "      <td>63370.447234</td>\n",
              "      <td>-97817.049341</td>\n",
              "      <td>46046.331562</td>\n",
              "    </tr>\n",
              "  </tbody>\n",
              "</table>\n",
              "<p>5 rows × 50 columns</p>\n",
              "</div>\n",
              "      <button class=\"colab-df-convert\" onclick=\"convertToInteractive('df-a32ab181-820d-4e9d-964f-fb1129214cd2')\"\n",
              "              title=\"Convert this dataframe to an interactive table.\"\n",
              "              style=\"display:none;\">\n",
              "        \n",
              "  <svg xmlns=\"http://www.w3.org/2000/svg\" height=\"24px\"viewBox=\"0 0 24 24\"\n",
              "       width=\"24px\">\n",
              "    <path d=\"M0 0h24v24H0V0z\" fill=\"none\"/>\n",
              "    <path d=\"M18.56 5.44l.94 2.06.94-2.06 2.06-.94-2.06-.94-.94-2.06-.94 2.06-2.06.94zm-11 1L8.5 8.5l.94-2.06 2.06-.94-2.06-.94L8.5 2.5l-.94 2.06-2.06.94zm10 10l.94 2.06.94-2.06 2.06-.94-2.06-.94-.94-2.06-.94 2.06-2.06.94z\"/><path d=\"M17.41 7.96l-1.37-1.37c-.4-.4-.92-.59-1.43-.59-.52 0-1.04.2-1.43.59L10.3 9.45l-7.72 7.72c-.78.78-.78 2.05 0 2.83L4 21.41c.39.39.9.59 1.41.59.51 0 1.02-.2 1.41-.59l7.78-7.78 2.81-2.81c.8-.78.8-2.07 0-2.86zM5.41 20L4 18.59l7.72-7.72 1.47 1.35L5.41 20z\"/>\n",
              "  </svg>\n",
              "      </button>\n",
              "      \n",
              "  <style>\n",
              "    .colab-df-container {\n",
              "      display:flex;\n",
              "      flex-wrap:wrap;\n",
              "      gap: 12px;\n",
              "    }\n",
              "\n",
              "    .colab-df-convert {\n",
              "      background-color: #E8F0FE;\n",
              "      border: none;\n",
              "      border-radius: 50%;\n",
              "      cursor: pointer;\n",
              "      display: none;\n",
              "      fill: #1967D2;\n",
              "      height: 32px;\n",
              "      padding: 0 0 0 0;\n",
              "      width: 32px;\n",
              "    }\n",
              "\n",
              "    .colab-df-convert:hover {\n",
              "      background-color: #E2EBFA;\n",
              "      box-shadow: 0px 1px 2px rgba(60, 64, 67, 0.3), 0px 1px 3px 1px rgba(60, 64, 67, 0.15);\n",
              "      fill: #174EA6;\n",
              "    }\n",
              "\n",
              "    [theme=dark] .colab-df-convert {\n",
              "      background-color: #3B4455;\n",
              "      fill: #D2E3FC;\n",
              "    }\n",
              "\n",
              "    [theme=dark] .colab-df-convert:hover {\n",
              "      background-color: #434B5C;\n",
              "      box-shadow: 0px 1px 3px 1px rgba(0, 0, 0, 0.15);\n",
              "      filter: drop-shadow(0px 1px 2px rgba(0, 0, 0, 0.3));\n",
              "      fill: #FFFFFF;\n",
              "    }\n",
              "  </style>\n",
              "\n",
              "      <script>\n",
              "        const buttonEl =\n",
              "          document.querySelector('#df-a32ab181-820d-4e9d-964f-fb1129214cd2 button.colab-df-convert');\n",
              "        buttonEl.style.display =\n",
              "          google.colab.kernel.accessAllowed ? 'block' : 'none';\n",
              "\n",
              "        async function convertToInteractive(key) {\n",
              "          const element = document.querySelector('#df-a32ab181-820d-4e9d-964f-fb1129214cd2');\n",
              "          const dataTable =\n",
              "            await google.colab.kernel.invokeFunction('convertToInteractive',\n",
              "                                                     [key], {});\n",
              "          if (!dataTable) return;\n",
              "\n",
              "          const docLinkHtml = 'Like what you see? Visit the ' +\n",
              "            '<a target=\"_blank\" href=https://colab.research.google.com/notebooks/data_table.ipynb>data table notebook</a>'\n",
              "            + ' to learn more about interactive tables.';\n",
              "          element.innerHTML = '';\n",
              "          dataTable['output_type'] = 'display_data';\n",
              "          await google.colab.output.renderOutput(dataTable, element);\n",
              "          const docLink = document.createElement('div');\n",
              "          docLink.innerHTML = docLinkHtml;\n",
              "          element.appendChild(docLink);\n",
              "        }\n",
              "      </script>\n",
              "    </div>\n",
              "  </div>\n",
              "  "
            ]
          },
          "metadata": {},
          "execution_count": 284
        }
      ]
    },
    {
      "cell_type": "code",
      "source": [
        "X_train, X_test, y_train, y_test = train_test_split(x_pca, y_train, test_size=0.33, random_state = 10)"
      ],
      "metadata": {
        "id": "2ENjW0fCcdj0"
      },
      "execution_count": 285,
      "outputs": []
    },
    {
      "cell_type": "code",
      "source": [
        "oversample = SVMSMOTE(sampling_strategy='minority', random_state=None, k_neighbors=8, n_jobs=None)\n",
        "X_train,y_train = oversample.fit_resample(X_train,y_train)\n",
        "\n",
        "print(\"New shape :\",X_train.shape,y_train.shape);"
      ],
      "metadata": {
        "colab": {
          "base_uri": "https://localhost:8080/"
        },
        "id": "KUO0JbwxHahH",
        "outputId": "84dae3e2-f845-4fb2-e8ea-e5d674bd0dfd"
      },
      "execution_count": 286,
      "outputs": [
        {
          "output_type": "stream",
          "name": "stdout",
          "text": [
            "New shape : (52554, 50) (52554,)\n"
          ]
        }
      ]
    },
    {
      "cell_type": "code",
      "source": [
        "from sklearn.pipeline import Pipeline\n",
        "from sklearn.neighbors import KNeighborsClassifier\n",
        "from sklearn.model_selection import train_test_split, GridSearchCV"
      ],
      "metadata": {
        "id": "0RXUVXUG9ax3"
      },
      "execution_count": 287,
      "outputs": []
    },
    {
      "cell_type": "code",
      "source": [
        "from sklearn import preprocessing\n",
        "from sklearn import utils"
      ],
      "metadata": {
        "id": "PQm53xu9-APc"
      },
      "execution_count": 288,
      "outputs": []
    },
    {
      "cell_type": "code",
      "source": [
        "params={ 'num_leaves':145,\n",
        "        'object':'binary',\n",
        "        'metric':['auc','binary_logloss']\n",
        "       }"
      ],
      "metadata": {
        "id": "K-gYIHTgiN6a"
      },
      "execution_count": 289,
      "outputs": []
    },
    {
      "cell_type": "code",
      "source": [
        "#clf = svm.SVC()\n",
        "#clf = clf.fit(X_train, y_train)\n",
        "\n",
        "#from sklearn.naive_bayes import GaussianNB\n",
        "#nb = GaussianNB()\n",
        "#nb.fit(X_train, y_train)\n",
        "\n",
        "#from sklearn.linear_model import LogisticRegression\n",
        "#lr = LogisticRegression()\n",
        "#lr.fit(X_train, y_train)\n",
        "\n",
        "#from sklearn import tree\n",
        "#model = tree.DecisionTreeRegressor(criterion='poisson')\n",
        "#model.fit(X_train, y_train)\n",
        "\n",
        "\n",
        "#from sklearn.neighbors import KNeighborsClassifier\n",
        "# model = KNeighborsClassifier(p = 1, n_neighbors=(30), weights='distance')\n",
        "\n",
        "#from sklearn.ensemble import RandomForestClassifier\n",
        "#model = RandomForestClassifier(criterion = 'entropy', n_estimators = 500, bootstrap = True)\n",
        "\n",
        "from sklearn.ensemble import GradientBoostingClassifier\n",
        "model = GradientBoostingClassifier()\n",
        "model = model.fit(X_train, y_train)\n",
        "y_pred = model.predict(X_test)\n",
        "print(\"F3 score  \",fbeta_score(y_test, y_pred, average='binary', beta=3))"
      ],
      "metadata": {
        "colab": {
          "base_uri": "https://localhost:8080/"
        },
        "id": "HYwxunhUQ_Im",
        "outputId": "9ff1842d-e23a-4f39-fada-a7db0d5e2fd0"
      },
      "execution_count": 290,
      "outputs": [
        {
          "output_type": "stream",
          "name": "stdout",
          "text": [
            "F3 score   0.807743658210948\n"
          ]
        }
      ]
    },
    {
      "cell_type": "code",
      "source": [
        "y_test_tree1 = model.predict(x_test_pca)\n",
        "\n",
        "dataset_dectree = pd.DataFrame({'Id':  np.arange(y_test_tree1.size), 'Predicted':y_test_tree1}, columns=['Id', 'Predicted'])\n",
        "dataset_dectree[\"Predicted\"] = dataset_dectree[\"Predicted\"].astype(int)\n",
        "dataset_dectree.to_csv('grad.csv', index=False)"
      ],
      "metadata": {
        "id": "PmwCgXDEfS7Z"
      },
      "execution_count": 291,
      "outputs": []
    },
    {
      "cell_type": "code",
      "source": [
        "print(sum(dataset_dectree[\"Predicted\"]))"
      ],
      "metadata": {
        "colab": {
          "base_uri": "https://localhost:8080/"
        },
        "id": "YnmyVJ8cji9v",
        "outputId": "7df7af96-9acc-4b52-d1c7-a14b67c204c6"
      },
      "execution_count": 292,
      "outputs": [
        {
          "output_type": "stream",
          "name": "stdout",
          "text": [
            "760\n"
          ]
        }
      ]
    }
  ],
  "metadata": {
    "accelerator": "GPU",
    "colab": {
      "provenance": []
    },
    "gpuClass": "standard",
    "kernelspec": {
      "display_name": "Python 3",
      "name": "python3"
    },
    "language_info": {
      "name": "python"
    }
  },
  "nbformat": 4,
  "nbformat_minor": 0
}